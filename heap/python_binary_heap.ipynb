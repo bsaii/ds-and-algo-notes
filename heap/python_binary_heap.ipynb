{
 "cells": [
  {
   "cell_type": "markdown",
   "metadata": {},
   "source": [
    "# Binary Heap\n",
    "\n",
    "A Binary Heap is a Binary Tree with following properties.\n",
    "\n",
    "1. It’s a complete tree (All levels are completely filled except possibly the last level and the last level has all keys as left as possible). This property of Binary Heap makes them suitable to be stored in an array.\n",
    "\n",
    "2. A Binary Heap is either Min Heap or Max Heap. In a Min Binary Heap, the key at root must be minimum among all keys present in Binary Heap. The same property must be recursively true for all nodes in Binary Tree. Max Binary Heap is similar to MinHeap.\n",
    "\n",
    "**Example of Min Binary Heap**\n",
    "```\n",
    "            10                      10\n",
    "         /      \\               /       \\  \n",
    "       20        100          15         30  \n",
    "      /                      /  \\        /  \\\n",
    "    30                     40    50    100   40\n",
    "```"
   ]
  },
  {
   "cell_type": "markdown",
   "metadata": {},
   "source": [
    "**How is Binary Heap represented?**\n",
    "\n",
    "A Binary Heap is a Complete Binary Tree. A binary heap is typically represented as an array.\n",
    "\n",
    "- The root element will be at Arr[0].\n",
    "- Below table shows indexes of other nodes for the ith node, i.e., Arr[i]:\n",
    "\n",
    "```\n",
    "Arr[(i-1)/2]\tReturns the parent node\n",
    "Arr[(2*i)+1]\tReturns the left child node\n",
    "Arr[(2*i)+2]\tReturns the right child node\n",
    "```\n",
    "\n",
    "The traversal method use to achieve Array representation is _Level Order_.\n",
    "\n",
    "![](https://www.geeksforgeeks.org/wp-content/uploads/binaryheap.png)"
   ]
  },
  {
   "cell_type": "markdown",
   "metadata": {},
   "source": [
    "**Operations on Min Heap**:\n",
    "\n",
    "1. `getMini()`: It returns the root element of Min Heap. Time Complexity of this operation is _O(1)_.\n",
    "\n",
    "2. `extractMin()`: Removes the minimum element from MinHeap. Time Complexity of this Operation is _O(Log n)_ as this operation needs to maintain the heap property (by calling `heapify()`) after removing root.\n",
    "\n",
    "3. `decreaseKey()`: Decreases value of key. The time complexity of this operation is _O(Log n)_. If the decreases key value of a node is greater than the parent of the node, then we don’t need to do anything. Otherwise, we need to traverse up to fix the violated heap property.\n",
    "\n",
    "4. `insert()`: Inserting a new key takes _O(Log n)_ time. We add a new key at the end of the tree. If new key is greater than its parent, then we don’t need to do anything. Otherwise, we need to traverse up to fix the violated heap property.\n",
    "\n",
    "5. `delete()`: Deleting a key also takes _O(Log n)_ time. We replace the key to be deleted with minum infinite by calling `decreaseKey()`. After `decreaseKey()`, the minus infinite value must reach root, so we call `extractMin()` to remove the key.\n",
    "\n",
    "Below is the implementation of basic heap operations."
   ]
  },
  {
   "cell_type": "code",
   "execution_count": 1,
   "metadata": {},
   "outputs": [
    {
     "ename": "TypeError",
     "evalue": "list indices must be integers or slices, not float",
     "output_type": "error",
     "traceback": [
      "\u001b[1;31m---------------------------------------------------------------------------\u001b[0m",
      "\u001b[1;31mTypeError\u001b[0m                                 Traceback (most recent call last)",
      "\u001b[1;32mc:\\Users\\Ben\\Documents\\SAIICODES\\DS-and-ALGO-NOTES\\heap\\python_binary_heap.ipynb Cell 4'\u001b[0m in \u001b[0;36m<module>\u001b[1;34m\u001b[0m\n\u001b[0;32m     <a href='vscode-notebook-cell:/c%3A/Users/Ben/Documents/SAIICODES/DS-and-ALGO-NOTES/heap/python_binary_heap.ipynb#ch0000004?line=49'>50</a>\u001b[0m heapObj\u001b[39m.\u001b[39minsertKey(\u001b[39m3\u001b[39m)\n\u001b[0;32m     <a href='vscode-notebook-cell:/c%3A/Users/Ben/Documents/SAIICODES/DS-and-ALGO-NOTES/heap/python_binary_heap.ipynb#ch0000004?line=50'>51</a>\u001b[0m heapObj\u001b[39m.\u001b[39minsertKey(\u001b[39m2\u001b[39m)\n\u001b[1;32m---> <a href='vscode-notebook-cell:/c%3A/Users/Ben/Documents/SAIICODES/DS-and-ALGO-NOTES/heap/python_binary_heap.ipynb#ch0000004?line=51'>52</a>\u001b[0m heapObj\u001b[39m.\u001b[39;49mdeleteKey(\u001b[39m1\u001b[39;49m)\n\u001b[0;32m     <a href='vscode-notebook-cell:/c%3A/Users/Ben/Documents/SAIICODES/DS-and-ALGO-NOTES/heap/python_binary_heap.ipynb#ch0000004?line=52'>53</a>\u001b[0m heapObj\u001b[39m.\u001b[39minsertKey(\u001b[39m15\u001b[39m)\n\u001b[0;32m     <a href='vscode-notebook-cell:/c%3A/Users/Ben/Documents/SAIICODES/DS-and-ALGO-NOTES/heap/python_binary_heap.ipynb#ch0000004?line=53'>54</a>\u001b[0m heapObj\u001b[39m.\u001b[39minsertKey(\u001b[39m5\u001b[39m)\n",
      "\u001b[1;32mc:\\Users\\Ben\\Documents\\SAIICODES\\DS-and-ALGO-NOTES\\heap\\python_binary_heap.ipynb Cell 4'\u001b[0m in \u001b[0;36mMinHeap.deleteKey\u001b[1;34m(self, i)\u001b[0m\n\u001b[0;32m     <a href='vscode-notebook-cell:/c%3A/Users/Ben/Documents/SAIICODES/DS-and-ALGO-NOTES/heap/python_binary_heap.ipynb#ch0000004?line=39'>40</a>\u001b[0m \u001b[39mdef\u001b[39;00m \u001b[39mdeleteKey\u001b[39m(\u001b[39mself\u001b[39m, i):\n\u001b[1;32m---> <a href='vscode-notebook-cell:/c%3A/Users/Ben/Documents/SAIICODES/DS-and-ALGO-NOTES/heap/python_binary_heap.ipynb#ch0000004?line=40'>41</a>\u001b[0m \t\u001b[39mself\u001b[39;49m\u001b[39m.\u001b[39;49mdecreaseKey(i, \u001b[39mfloat\u001b[39;49m(\u001b[39m\"\u001b[39;49m\u001b[39m-inf\u001b[39;49m\u001b[39m\"\u001b[39;49m))\n\u001b[0;32m     <a href='vscode-notebook-cell:/c%3A/Users/Ben/Documents/SAIICODES/DS-and-ALGO-NOTES/heap/python_binary_heap.ipynb#ch0000004?line=41'>42</a>\u001b[0m \t\u001b[39mself\u001b[39m\u001b[39m.\u001b[39mextractMin()\n",
      "\u001b[1;32mc:\\Users\\Ben\\Documents\\SAIICODES\\DS-and-ALGO-NOTES\\heap\\python_binary_heap.ipynb Cell 4'\u001b[0m in \u001b[0;36mMinHeap.decreaseKey\u001b[1;34m(self, i, new_val)\u001b[0m\n\u001b[0;32m     <a href='vscode-notebook-cell:/c%3A/Users/Ben/Documents/SAIICODES/DS-and-ALGO-NOTES/heap/python_binary_heap.ipynb#ch0000004?line=26'>27</a>\u001b[0m \u001b[39mdef\u001b[39;00m \u001b[39mdecreaseKey\u001b[39m(\u001b[39mself\u001b[39m, i, new_val):\n\u001b[0;32m     <a href='vscode-notebook-cell:/c%3A/Users/Ben/Documents/SAIICODES/DS-and-ALGO-NOTES/heap/python_binary_heap.ipynb#ch0000004?line=27'>28</a>\u001b[0m \t\u001b[39mself\u001b[39m\u001b[39m.\u001b[39mheap[i] \u001b[39m=\u001b[39m new_val\n\u001b[1;32m---> <a href='vscode-notebook-cell:/c%3A/Users/Ben/Documents/SAIICODES/DS-and-ALGO-NOTES/heap/python_binary_heap.ipynb#ch0000004?line=28'>29</a>\u001b[0m \t\u001b[39mwhile\u001b[39;00m(i \u001b[39m!=\u001b[39m \u001b[39m0\u001b[39m \u001b[39mand\u001b[39;00m \u001b[39mself\u001b[39;49m\u001b[39m.\u001b[39;49mheap[\u001b[39mself\u001b[39;49m\u001b[39m.\u001b[39;49mparent(i)] \u001b[39m>\u001b[39m \u001b[39mself\u001b[39m\u001b[39m.\u001b[39mheap[i]):\n\u001b[0;32m     <a href='vscode-notebook-cell:/c%3A/Users/Ben/Documents/SAIICODES/DS-and-ALGO-NOTES/heap/python_binary_heap.ipynb#ch0000004?line=29'>30</a>\u001b[0m \t\t\u001b[39m# Swap heap[i] with heap[parent(i)]\u001b[39;00m\n\u001b[0;32m     <a href='vscode-notebook-cell:/c%3A/Users/Ben/Documents/SAIICODES/DS-and-ALGO-NOTES/heap/python_binary_heap.ipynb#ch0000004?line=30'>31</a>\u001b[0m \t\t\u001b[39mself\u001b[39m\u001b[39m.\u001b[39mheap[i] , \u001b[39mself\u001b[39m\u001b[39m.\u001b[39mheap[\u001b[39mself\u001b[39m\u001b[39m.\u001b[39mparent(i)] \u001b[39m=\u001b[39m (\n\u001b[0;32m     <a href='vscode-notebook-cell:/c%3A/Users/Ben/Documents/SAIICODES/DS-and-ALGO-NOTES/heap/python_binary_heap.ipynb#ch0000004?line=31'>32</a>\u001b[0m \t\t\u001b[39mself\u001b[39m\u001b[39m.\u001b[39mheap[\u001b[39mself\u001b[39m\u001b[39m.\u001b[39mparent(i)], \u001b[39mself\u001b[39m\u001b[39m.\u001b[39mheap[i])\n",
      "\u001b[1;31mTypeError\u001b[0m: list indices must be integers or slices, not float"
     ]
    }
   ],
   "source": [
    "# A Python program to demonstrate common binary heap operations\n",
    "\n",
    "# Import the heap functions from python library\n",
    "from heapq import heappush, heappop, heapify\n",
    "\n",
    "# heappop - pop and return the smallest element from heap\n",
    "# heappush - push the value item onto the heap, maintaining\n",
    "#\t\t\t heap invarient\n",
    "# heapify - transform list into heap, in place, in linear time\n",
    "\n",
    "# A class for Min Heap\n",
    "class MinHeap:\n",
    "\t\n",
    "\t# Constructor to initialize a heap\n",
    "\tdef __init__(self):\n",
    "\t\tself.heap = []\n",
    "\n",
    "\tdef parent(self, i):\n",
    "\t\treturn (i-1)/2\n",
    "\t\n",
    "\t# Inserts a new key 'k'\n",
    "\tdef insertKey(self, k):\n",
    "\t\theappush(self.heap, k)\t\t\n",
    "\n",
    "\t# Decrease value of key at index 'i' to new_val\n",
    "\t# It is assumed that new_val is smaller than heap[i]\n",
    "\tdef decreaseKey(self, i, new_val):\n",
    "\t\tself.heap[i] = new_val\n",
    "\t\twhile(i != 0 and self.heap[self.parent(i)] > self.heap[i]):\n",
    "\t\t\t# Swap heap[i] with heap[parent(i)]\n",
    "\t\t\tself.heap[i] , self.heap[self.parent(i)] = (\n",
    "\t\t\tself.heap[self.parent(i)], self.heap[i])\n",
    "\t\t\t\n",
    "\t# Method to remove minium element from min heap\n",
    "\tdef extractMin(self):\n",
    "\t\treturn heappop(self.heap)\n",
    "\n",
    "\t# This functon deletes key at index i. It first reduces\n",
    "\t# value to minus infinite and then calls extractMin()\n",
    "\tdef deleteKey(self, i):\n",
    "\t\tself.decreaseKey(i, float(\"-inf\"))\n",
    "\t\tself.extractMin()\n",
    "\n",
    "\t# Get the minimum element from the heap\n",
    "\tdef getMin(self):\n",
    "\t\treturn self.heap[0]\n",
    "\n",
    "# Driver pgoratm to test above function\n",
    "heapObj = MinHeap()\n",
    "heapObj.insertKey(3)\n",
    "heapObj.insertKey(2)\n",
    "heapObj.deleteKey(1)\n",
    "heapObj.insertKey(15)\n",
    "heapObj.insertKey(5)\n",
    "heapObj.insertKey(4)\n",
    "heapObj.insertKey(45)\n",
    "\n",
    "print(heapObj.extractMin()),\n",
    "print(heapObj.getMin()),\n",
    "heapObj.decreaseKey(2, 1)\n",
    "print(heapObj.getMin())\n"
   ]
  },
  {
   "cell_type": "markdown",
   "metadata": {},
   "source": []
  },
  {
   "cell_type": "code",
   "execution_count": null,
   "metadata": {},
   "outputs": [],
   "source": []
  }
 ],
 "metadata": {
  "interpreter": {
   "hash": "2be5faf79681da6f2a61fdfdd5405d65d042280f7fba6178067603e3a2925119"
  },
  "kernelspec": {
   "display_name": "Python 3.10.1 64-bit",
   "language": "python",
   "name": "python3"
  },
  "language_info": {
   "codemirror_mode": {
    "name": "ipython",
    "version": 3
   },
   "file_extension": ".py",
   "mimetype": "text/x-python",
   "name": "python",
   "nbconvert_exporter": "python",
   "pygments_lexer": "ipython3",
   "version": "3.10.1"
  },
  "orig_nbformat": 4
 },
 "nbformat": 4,
 "nbformat_minor": 2
}
