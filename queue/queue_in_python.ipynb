{
 "cells": [
  {
   "cell_type": "markdown",
   "metadata": {},
   "source": [
    "# Queue (Introduction and Array implementation)\n",
    "\n",
    "Like Stack, Queue is a linear structure which follows a particular order in which the operations are performed. The order is First In First Out (FIFO).  A good example of queue is any queue of consumers for a resource where the consumer that came first is served first.\n",
    "\n",
    "The difference between stacks and queues is in removing. In a stack we remove the item the most recently added; in a queue, we remove the item the least recently added.\n",
    "\n",
    "**Operations on Queue**: \n",
    "Mainly the following four basic operations are performed on queue:\n",
    "\n",
    "1. **Enqueue**: Adds an item to the queue. If the queue is full, then it is said to be an Overflow condition. \n",
    "2. **Dequeue**: Removes an item from the queue. The items are popped in the same order in which they are pushed. If the queue is empty, then it is said to be an Underflow condition. \n",
    "3. **Front**: Get the front item from queue. \n",
    "4. **Rear**: Get the last item from queue. \n",
    "\n",
    "<img src=\"https://media.geeksforgeeks.org/wp-content/cdn-uploads/gq/2014/02/Queue.png\">"
   ]
  },
  {
   "cell_type": "markdown",
   "metadata": {},
   "source": [
    "## The array implementation of Queue\n",
    "\n",
    "For implementing queue, we need to keep track of two indices, front and rear. We enqueue an item at the rear and dequeue an item from the front. If we simply increment front and rear indices, then there may be problems, the front may reach the end of the array. The solution to this problem is to increase front and rear in circular manner."
   ]
  },
  {
   "cell_type": "code",
   "execution_count": 5,
   "metadata": {},
   "outputs": [],
   "source": [
    "# Class Queue to represent a queue\n",
    "class Queue:\n",
    "\n",
    "  # __init__ function\n",
    "  def __init__(self, capacity):\n",
    "    self.front = self.size = 0 # tracking the front\n",
    "    self.rear = capacity - 1 # tracking the rear\n",
    "    self.Q = [None] * capacity\n",
    "    self.capacity = capacity\n",
    "\n",
    "  # Queue is full when size becomes equal to the capacity\n",
    "  def is_full(self):\n",
    "    return self.size == self.capacity\n",
    "\n",
    "  # Queue is empty when size is 0\n",
    "  def is_empty(self):\n",
    "    return self.size == 0\n",
    "\n",
    "  # Function to add an item to the queue.\n",
    "  # It changes rear and size\n",
    "  def enqueue(self, item):\n",
    "    if self.is_full():\n",
    "      print(\"Full\")\n",
    "      return\n",
    "    self.rear = (self.rear + 1) % (self.capacity)\n",
    "    self.Q[self.rear] = item\n",
    "    self.size = self.size + 1\n",
    "    print(\"% s enqueued to queue\"  % str(item))\n",
    "\n",
    "  # Function to remove an item from queue.\n",
    "  # It changes front and size\n",
    "  def dequeue(self):\n",
    "      if self.is_empty():\n",
    "        print(\"Empty\")\n",
    "        return\n",
    "\n",
    "      print(\"% s dequeued from queue\" % str(self.Q[self.front]))\n",
    "      self.front = (self.front + 1) % (self.capacity)\n",
    "      self.size = self.size -1\n",
    "\n",
    "  # Function to get front of queue\n",
    "  def que_front(self):\n",
    "    if self.is_empty():\n",
    "      print(\"Queue is empty\")\n",
    " \n",
    "    print(\"Front item is\", self.Q[self.front])\n",
    "\n",
    "  # Function to get rear of queue\n",
    "  def que_rear(self):\n",
    "    if self.is_empty():\n",
    "      print(\"Queue is empty\")\n",
    "    print(\"Rear item is\",  self.Q[self.rear])\n",
    "         "
   ]
  },
  {
   "cell_type": "markdown",
   "metadata": {},
   "source": [
    "Testing the code above."
   ]
  },
  {
   "cell_type": "code",
   "execution_count": 6,
   "metadata": {},
   "outputs": [
    {
     "name": "stdout",
     "output_type": "stream",
     "text": [
      "10 enqueued to queue\n",
      "20 enqueued to queue\n",
      "30 enqueued to queue\n",
      "40 enqueued to queue\n",
      "10 dequeued from queue\n",
      "Front item is 20\n",
      "Rear item is 40\n"
     ]
    }
   ],
   "source": [
    "queue = Queue(30)\n",
    "queue.enqueue(10)\n",
    "queue.enqueue(20)\n",
    "queue.enqueue(30)\n",
    "queue.enqueue(40)\n",
    "queue.dequeue()\n",
    "queue.que_front()\n",
    "queue.que_rear()\n"
   ]
  },
  {
   "cell_type": "markdown",
   "metadata": {},
   "source": [
    "### Complexity Analysis\n",
    "\n",
    "- **Time complexity**\n",
    "\n",
    "```\n",
    "Operations              Complexity\n",
    "Enque(insertion)           O(1)\n",
    "Deque(deletion)            O(1)\n",
    "Front(Get front)           O(1)\n",
    "Rear(Get Rear)             O(1)   \n",
    "```\n",
    "\n",
    "- **Auxiliary Space**: O(N)\n",
    "N is the size of array for storing elements."
   ]
  },
  {
   "cell_type": "markdown",
   "metadata": {},
   "source": [
    "### The pros and cons of the array implementation\n",
    "\n",
    "**Pros of Array Implementation**:  \n",
    "\n",
    "1. Easy to implement.\n",
    "\n",
    "\n",
    "**Cons of Array Implementation**:  \n",
    "\n",
    "1. Static Data Structure, fixed size.\n",
    "2. If the queue has a large number of enqueue and dequeue operations, at some point (in case of linear increment of front and rear indexes) we may not be able to insert elements in the queue even if the queue is empty (this problem is avoided by using circular queue)."
   ]
  },
  {
   "cell_type": "markdown",
   "metadata": {},
   "source": [
    "## The Linked List Implementation of Queue\n",
    "\n",
    "Previously, we introduced Queue and discussed array implementation. Now, linked list implementation is discussed. The following two main operations must be implemented efficiently.\n",
    "In a Queue data structure, we maintain two pointers, front and rear. The front points the first item of queue and rear points to last item.\n",
    "`enqueue()` This operation adds a new node after rear and moves rear to the next node.\n",
    "`dequeue()` This operation removes the front node and moves front to the next node."
   ]
  },
  {
   "cell_type": "code",
   "execution_count": 10,
   "metadata": {},
   "outputs": [],
   "source": [
    "# A linked list (LL) node to store a queue entry\n",
    "class Node:\n",
    "  def __init__(self, data):\n",
    "    self.data = data\n",
    "    self.next = None\n",
    "\n",
    "# A class to represent a queue\n",
    "\n",
    "# The queue, front stores the front node of LL and rear stores the last node of LL\n",
    "class Queue:\n",
    "  def __init__(self):\n",
    "    self.front = self.rear = None\n",
    "\n",
    "  def is_empty(self):\n",
    "    return self.front == None\n",
    "\n",
    "  # Method to add an item to the queue\n",
    "  def enqueue(self, item):\n",
    "    temp = Node(item)\n",
    "\n",
    "    if self.rear == None:\n",
    "      self.front = self.rear = temp\n",
    "      return\n",
    "    self.rear.next = temp\n",
    "    self.rear = temp\n",
    "\n",
    "  # Method to remove an item from queue\n",
    "  def dequeue(self):\n",
    "    if self.is_empty():\n",
    "      return\n",
    "    temp = self.front\n",
    "    self.front = temp.next\n",
    "\n",
    "    if(self.front == None):\n",
    "      self.rear = None\n"
   ]
  },
  {
   "cell_type": "markdown",
   "metadata": {},
   "source": [
    "Running tests"
   ]
  },
  {
   "cell_type": "code",
   "execution_count": 11,
   "metadata": {},
   "outputs": [
    {
     "name": "stdout",
     "output_type": "stream",
     "text": [
      "Queue Front 40\n",
      "Queue Rear 50\n"
     ]
    }
   ],
   "source": [
    "q = Queue()\n",
    "q.enqueue(10)\n",
    "q.enqueue(20)\n",
    "q.dequeue()\n",
    "q.dequeue()\n",
    "q.enqueue(30)\n",
    "q.enqueue(40)\n",
    "q.enqueue(50)\n",
    "q.dequeue()\n",
    "print(\"Queue Front \" + str(q.front.data))\n",
    "print(\"Queue Rear \" + str(q.rear.data))\n"
   ]
  },
  {
   "cell_type": "code",
   "execution_count": null,
   "metadata": {},
   "outputs": [],
   "source": []
  }
 ],
 "metadata": {
  "interpreter": {
   "hash": "2be5faf79681da6f2a61fdfdd5405d65d042280f7fba6178067603e3a2925119"
  },
  "kernelspec": {
   "display_name": "Python 3.10.1 64-bit",
   "language": "python",
   "name": "python3"
  },
  "language_info": {
   "codemirror_mode": {
    "name": "ipython",
    "version": 3
   },
   "file_extension": ".py",
   "mimetype": "text/x-python",
   "name": "python",
   "nbconvert_exporter": "python",
   "pygments_lexer": "ipython3",
   "version": "3.10.1"
  },
  "orig_nbformat": 4
 },
 "nbformat": 4,
 "nbformat_minor": 2
}
