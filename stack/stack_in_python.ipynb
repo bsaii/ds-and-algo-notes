{
 "cells": [
  {
   "cell_type": "markdown",
   "metadata": {},
   "source": [
    "# Stack Data Structure (Introduction and Program)\n",
    "\n",
    "Stack is a linear data structure that follows a particular order in which the operations are performed. The order may be LIFO(Last In First Out) or FILO(First In Last Out).\n",
    "\n",
    "Mainly the following three basic operations are performed in the stack:\n",
    "\n",
    "- **Push**: Adds an item in the stack. If the stack is full, then it is said to be an Overflow condition.\n",
    "- **Pop**: Removes an item from the stack. The items are popped in the reversed order in which they are pushed. If the stack is empty, then it is said to be an Underflow condition.\n",
    "- **Peek or Top**: Returns the top element of the stack.\n",
    "- **isEmpty**: Returns true if the stack is empty, else false.\n",
    "\n",
    "<img src=\"https://media.geeksforgeeks.org/wp-content/uploads/20210716162942/stack-660x345.png\">"
   ]
  },
  {
   "cell_type": "markdown",
   "metadata": {},
   "source": [
    "**How to understand a stack practically**\n",
    "\n",
    "There are many real-life examples of a stack. Consider the simple example of plates stacked over one another in a canteen. The plate which is at the top is the first one to be removed, i.e. the plate which has been placed at the bottommost position remains in the stack for the longest period of time. So, it can be simply seen to follow the LIFO/FILO order.\n",
    "\n",
    "Time Complexities of operations on stack:\n",
    "\n",
    "`push()`, `pop()`, `is_empty()` and `peek()` all take _O(1)_ time. We do not run any loop in any of these operations."
   ]
  },
  {
   "cell_type": "markdown",
   "metadata": {},
   "source": [
    "## Implementation: \n",
    "There are two ways to implement a stack: \n",
    "\n",
    "1. Using array\n",
    "2. Using linked list"
   ]
  },
  {
   "cell_type": "markdown",
   "metadata": {},
   "source": [
    "### 1. Implementing stack using Arrays(List)"
   ]
  },
  {
   "cell_type": "code",
   "execution_count": 1,
   "metadata": {},
   "outputs": [],
   "source": [
    "# import maxsize from sys module\n",
    "# Used to return -infinite when stack is empty\n",
    "from sys import maxsize\n",
    "\n",
    "# Function to create a stack. It initializes size of stack as 0\n",
    "def create_stack():\n",
    "  stack = []\n",
    "  return stack\n",
    "\n",
    "# Stack is empty when stack size is 0\n",
    "def is_empty(stack):\n",
    "  return len(stack) == 0\n",
    "\n",
    "# Function to add an item to stack. It increases size by 1\n",
    "def push(stack, item):\n",
    "  stack.append(item)\n",
    "  print(item + \"pushed to stack\")\n",
    "\n",
    "# Function to remove an item from stack. It decreases size by 1\n",
    "def pop(stack):\n",
    "  if is_empty(stack):\n",
    "    return str(-maxsize -1) # return minus infinite\n",
    "\n",
    "  return stack.pop()\n",
    "\n",
    "# Function to return the top from stack without removing it\n",
    "def peek(stack):\n",
    "  if is_empty(stack):\n",
    "    return str(-maxsize -1) # return minus infinte\n",
    "  return stack[len(stack) - 1] # return the top without removing it"
   ]
  },
  {
   "cell_type": "markdown",
   "metadata": {},
   "source": [
    "Testing the above functions"
   ]
  },
  {
   "cell_type": "code",
   "execution_count": 3,
   "metadata": {},
   "outputs": [
    {
     "name": "stdout",
     "output_type": "stream",
     "text": [
      "10pushed to stack\n",
      "20pushed to stack\n",
      "30pushed to stack\n",
      "30popped from stack\n",
      "Top element is:20\n",
      "Elements present in stack: ['10', '20']\n"
     ]
    }
   ],
   "source": [
    "# testing the above functions\n",
    "stack = create_stack()\n",
    "\n",
    "# add to the stack\n",
    "push(stack, str(10))\n",
    "push(stack, str(20))\n",
    "push(stack, str(30))\n",
    "\n",
    "# remove an item from the stack\n",
    "print(pop(stack) + \"popped from stack\")\n",
    "\n",
    "# return the top element\n",
    "print(\"Top element is:\" + peek(stack))\n",
    "\n",
    "print(\"Elements present in stack:\", stack)"
   ]
  },
  {
   "cell_type": "markdown",
   "metadata": {},
   "source": [
    "#### The pros and cons of implementing a stack using Arrays\n",
    "\n",
    "**Pros**: Easy to implement. Memory is saved as pointers are not involved. \n",
    "\n",
    "**Cons**: It is not dynamic. It doesn’t grow and shrink depending on needs at runtime."
   ]
  },
  {
   "cell_type": "markdown",
   "metadata": {},
   "source": [
    "### 2. Implementing stack using Linked List"
   ]
  },
  {
   "cell_type": "code",
   "execution_count": 4,
   "metadata": {},
   "outputs": [],
   "source": [
    "# Class to represent a node\n",
    "class StackNode:\n",
    "\n",
    "  # Constructor to initialize a node\n",
    "  def __init__(self, data):\n",
    "    self.data = data\n",
    "    self.next = None\n",
    "\n",
    "\n",
    "# Class to represent a stack\n",
    "class Stack:\n",
    "\n",
    "  # Constructor to initialize the root of the linked list\n",
    "  def __init__(self):\n",
    "    self.root = None\n",
    "\n",
    "  def is_empty(self):\n",
    "    return True if self.root is None else False\n",
    "\n",
    "  def push(self, data):\n",
    "    new_node = StackNode(data)\n",
    "    new_node.next = self.root\n",
    "    self.root = new_node\n",
    "    print(\"% d pushed to stack\" % (data))\n",
    "\n",
    "  def pop(self):\n",
    "    if self.is_empty():\n",
    "      return float(\"-inf\")\n",
    "\n",
    "    temp = self.root\n",
    "    self.root = self.root.next\n",
    "    popped = temp.data\n",
    "    return popped\n",
    "\n",
    "  def peek(self):\n",
    "    if self.is_empty():\n",
    "      return float(\"-inf\")\n",
    "    return self.root.data"
   ]
  },
  {
   "cell_type": "markdown",
   "metadata": {},
   "source": [
    "Testing the functions above"
   ]
  },
  {
   "cell_type": "code",
   "execution_count": 5,
   "metadata": {},
   "outputs": [
    {
     "name": "stdout",
     "output_type": "stream",
     "text": [
      " 10 pushed to stack\n",
      " 20 pushed to stack\n",
      " 30 pushed to stack\n",
      " 30 popped from stack\n",
      "Top element is  20 \n"
     ]
    }
   ],
   "source": [
    "stack = Stack()\n",
    "stack.push(10)\n",
    "stack.push(20)\n",
    "stack.push(30)\n",
    "\n",
    "print(\"% d popped from stack\" % (stack.pop()))\n",
    "print(\"Top element is % d \" % (stack.peek()))"
   ]
  },
  {
   "cell_type": "markdown",
   "metadata": {},
   "source": [
    "#### The pros and cons of implementing a stack using linked list\n",
    "\n",
    "**Pros**: The linked list implementation of a stack can grow and shrink according to the needs at runtime. \n",
    "\n",
    "**Cons**: Requires extra memory due to involvement of pointers."
   ]
  },
  {
   "cell_type": "markdown",
   "metadata": {},
   "source": [
    "# Stack in Python (Implementation)\n",
    "\n",
    "There are various ways from which a stack can be implemented in Python. Here we cover the implementation of a stack using data structures and modules from the Python library.\n",
    "\n",
    "Stack in Python can be implemented using the following ways: \n",
    "\n",
    "- list\n",
    "- Collections.deque\n",
    "- queue.LifoQueue"
   ]
  },
  {
   "cell_type": "markdown",
   "metadata": {},
   "source": [
    "## 1. Implementation using list\n",
    "\n",
    "Python’s built-in data structure list can be used as a stack. Instead of the `push()` function, the `append()` method is used to add elements to the top of the stack while the `pop()` method removes the element in LIFO order. \n",
    "\n",
    "Unfortunately, the list has a few shortcomings. The biggest issue is that it can run into speed issues as it grows. The items in the list are stored next to each other in memory, if the stack grows bigger than the block of memory that currently holds it, then Python needs to do some memory allocations. This can lead to some `append()` calls taking much longer than other ones."
   ]
  },
  {
   "cell_type": "code",
   "execution_count": 6,
   "metadata": {},
   "outputs": [
    {
     "name": "stdout",
     "output_type": "stream",
     "text": [
      "Initial stack\n",
      "['a', 'b', 'c']\n",
      "\n",
      "Elements popped from stack:\n",
      "c\n",
      "b\n",
      "a\n",
      "\n",
      "Stack after elements are popped:\n",
      "[]\n"
     ]
    }
   ],
   "source": [
    "# Python program to\n",
    "# demonstrate stack implementation\n",
    "# using list\n",
    "\n",
    "stack = []\n",
    "\n",
    "# append() function to push\n",
    "# element in the stack\n",
    "stack.append('a')\n",
    "stack.append('b')\n",
    "stack.append('c')\n",
    "\n",
    "print('Initial stack')\n",
    "print(stack)\n",
    "\n",
    "# pop() function to pop\n",
    "# element from stack in\n",
    "# LIFO order\n",
    "print('\\nElements popped from stack:')\n",
    "print(stack.pop())\n",
    "print(stack.pop())\n",
    "print(stack.pop())\n",
    "\n",
    "print('\\nStack after elements are popped:')\n",
    "print(stack)"
   ]
  },
  {
   "cell_type": "markdown",
   "metadata": {},
   "source": [
    "## 2. Implementation using collections.deque\n",
    "\n",
    "Python stack can be implemented using the `deque` class from the `collections` module. `Deque` is preferred over the list in the cases where we need quicker `append` and `pop` operations from both the ends of the container, as `deque` provides an O(1) time complexity for `append` and `pop` operations as compared to list which provides O(n) time complexity.\n",
    "\n",
    "The same methods on `deque` as seen in the list are used, `append()` and `pop()`."
   ]
  },
  {
   "cell_type": "code",
   "execution_count": 7,
   "metadata": {},
   "outputs": [
    {
     "name": "stdout",
     "output_type": "stream",
     "text": [
      "Initial stack:\n",
      "deque(['a', 'b', 'c'])\n",
      "\n",
      "Elements popped from stack:\n",
      "c\n",
      "b\n",
      "a\n",
      "\n",
      "Stack after elements are popped:\n",
      "deque([])\n"
     ]
    }
   ],
   "source": [
    "# Python program to\n",
    "# demonstrate stack implementation\n",
    "# using collections.deque\n",
    "\n",
    "from collections import deque\n",
    "\n",
    "stack = deque()\n",
    "\n",
    "# append() function to push\n",
    "# element in the stack\n",
    "stack.append('a')\n",
    "stack.append('b')\n",
    "stack.append('c')\n",
    "\n",
    "print('Initial stack:')\n",
    "print(stack)\n",
    "\n",
    "# pop() function to pop\n",
    "# element from stack in\n",
    "# LIFO order\n",
    "print('\\nElements popped from stack:')\n",
    "print(stack.pop())\n",
    "print(stack.pop())\n",
    "print(stack.pop())\n",
    "\n",
    "print('\\nStack after elements are popped:')\n",
    "print(stack)"
   ]
  },
  {
   "cell_type": "markdown",
   "metadata": {},
   "source": [
    "## 2. Implementation using queue module\n",
    "\n",
    "Queue module also has a LIFO Queue, which is basically a Stack. Data is inserted into Queue using the `put()` function and `get()` takes data out from the Queue. \n",
    "\n",
    "There are various functions available in this module: \n",
    "\n",
    "- `maxsize` – Number of items allowed in the queue.\n",
    "- `empty()` – Return True if the queue is empty, False otherwise.\n",
    "- `full()` – Return True if there are maxsize items in the queue. If the queue was initialized with maxsize=0 (the default), then `full()` never returns True.\n",
    "- `get()` – Remove and return an item from the queue. If the queue is empty, wait until an item is available.\n",
    "- `get_nowait()` – Return an item if one is immediately available, else raise QueueEmpty.\n",
    "- `put(item)` – Put an item into the queue. If the queue is full, wait until a free slot is available before adding the item.\n",
    "- `put_nowait(item)` – Put an item into the queue without blocking.\n",
    "- `qsize()` – Return the number of items in the queue. If no free slot is immediately available, raise QueueFull."
   ]
  },
  {
   "cell_type": "code",
   "execution_count": 8,
   "metadata": {},
   "outputs": [
    {
     "name": "stdout",
     "output_type": "stream",
     "text": [
      "0\n",
      "Full:  True\n",
      "Size:  3\n",
      "\n",
      "Elements popped from the stack\n",
      "c\n",
      "b\n",
      "a\n",
      "\n",
      "Empty:  True\n"
     ]
    }
   ],
   "source": [
    "# Python program to\n",
    "# demonstrate stack implementation\n",
    "# using queue module\n",
    "\n",
    "from queue import LifoQueue\n",
    "\n",
    "# Initializing a stack\n",
    "stack = LifoQueue(maxsize=3)\n",
    "\n",
    "# qsize() show the number of elements\n",
    "# in the stack\n",
    "print(stack.qsize())\n",
    "\n",
    "# put() function to push\n",
    "# element in the stack\n",
    "stack.put('a')\n",
    "stack.put('b')\n",
    "stack.put('c')\n",
    "\n",
    "print(\"Full: \", stack.full())\n",
    "print(\"Size: \", stack.qsize())\n",
    "\n",
    "# get() function to pop\n",
    "# element from stack in\n",
    "# LIFO order\n",
    "print('\\nElements popped from the stack')\n",
    "print(stack.get())\n",
    "print(stack.get())\n",
    "print(stack.get())\n",
    "\n",
    "print(\"\\nEmpty: \", stack.empty())"
   ]
  },
  {
   "cell_type": "code",
   "execution_count": null,
   "metadata": {},
   "outputs": [],
   "source": []
  },
  {
   "cell_type": "code",
   "execution_count": null,
   "metadata": {},
   "outputs": [],
   "source": []
  }
 ],
 "metadata": {
  "interpreter": {
   "hash": "2be5faf79681da6f2a61fdfdd5405d65d042280f7fba6178067603e3a2925119"
  },
  "kernelspec": {
   "display_name": "Python 3.10.1 64-bit",
   "language": "python",
   "name": "python3"
  },
  "language_info": {
   "codemirror_mode": {
    "name": "ipython",
    "version": 3
   },
   "file_extension": ".py",
   "mimetype": "text/x-python",
   "name": "python",
   "nbconvert_exporter": "python",
   "pygments_lexer": "ipython3",
   "version": "3.10.1"
  },
  "orig_nbformat": 4
 },
 "nbformat": 4,
 "nbformat_minor": 2
}
